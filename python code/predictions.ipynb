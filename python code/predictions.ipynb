{
 "cells": [
  {
   "cell_type": "code",
   "execution_count": null,
   "id": "bde00d22",
   "metadata": {},
   "outputs": [],
   "source": [
    "import numpy as np\n",
    "from sklearn.model_selection import train_test_split\n",
    "import matplotlib.pyplot as plt\n",
    "from sklearn.neighbors import KNeighborsClassifier\n",
    "from sklearn.tree import DecisionTreeClassifier\n",
    "from sklearn.linear_model import LogisticRegression\n",
    "from sklearn.ensemble import RandomForestClassifier\n",
    "from sklearn.svm import SVC\n",
    "from sklearn.model_selection import GridSearchCV\n",
    "from sklearn.metrics import accuracy_score, confusion_matrix\n",
    "import seaborn as sns"
   ]
  },
  {
   "cell_type": "code",
   "execution_count": null,
   "id": "ee2c3220",
   "metadata": {},
   "outputs": [],
   "source": [
    "values = [\"apple\",\"pineapple\",\"banana\",\"t-shirt\",\"pencil\",\"pants\",\"cat\",\"car\",\"envelope\",\"eye\",\n",
    "          \"star\",\"mouth\",\"umbrella\",\"teddy-bear\",\"tent\",\"guitar\",\"headphones\",\"camera\",\"calculator\",\"door\",\n",
    "          \"birthday-cake\",\"bicycle\",\"traffic-light\",\"tree\",\"wine-glass\",\"skateboard\",\"pizza\",\"octopus\",\"light-bulb\",\n",
    "          \"ladder\",\"hourglass\",\"helicopter\",\"donut\",\"ice-cream\",\"crown\",\"butterfly\",\"leaf\",\"laptop\",\"skull\",\"jail\"]\n",
    "\n",
    "files = [\"apple.npy\",\"pineapple.npy\",\"banana.npy\",\"t-shirt.npy\",\"pencil.npy\",\"pants.npy\",\"cat.npy\",\n",
    "         \"car.npy\",\"envelope.npy\",\"eye.npy\",\"star.npy\",\"mouth.npy\",\"umbrella.npy\",\"teddy_bear.npy\",\"tent.npy\",\n",
    "         \"guitar.npy\",\"headphones.npy\",\"camera.npy\",\"calculator.npy\",\"door.npy\",\"birthday_cake.npy\",\n",
    "         \"bicycle.npy\",\"traffic_light.npy\",\"tree.npy\",\"wine_glass.npy\",\"skateboard.npy\",\"pizza.npy\",\"octopus.npy\",\n",
    "         \"light_bulb.npy\",\"ladder.npy\",\"hourglass.npy\",\"helicopter.npy\",\"donut.npy\",\"ice_cream.npy\",\"crown.npy\",\n",
    "         \"butterfly.npy\",\"leaf.npy\",\"laptop.npy\",\"skull.npy\",\"jail.npy\"]\n",
    "def load(dir, files,max_samples=2000):\n",
    "    X = []\n",
    "    Y = []\n",
    "    for index in range(len(files)):\n",
    "        f = np.load(dir + files[index])\n",
    "        for i in range(len(f)):\n",
    "            x = np.reshape(f[i],(28,28))\n",
    "            if i==max_samples:\n",
    "                break\n",
    "            X.append(x)\n",
    "            Y.append(index)\n",
    "    return np.array(X),np.array(Y)\n",
    "\n",
    "max_samples=1000\n",
    "X,Y = load(\"C:\\VisheshFiles\\OneDrive - Swast Solutions Private Limited\\OldProjects\\projects\\Quick_Draw/data\", files, max_samples)\n",
    "X_train, X_test, Y_train, Y_test = train_test_split(X,Y,train_size=0.9,stratify=Y,random_state=0)\n",
    "X_train_flatten = X_train.reshape(X_train.shape[0], -1)\n",
    "X_test_flatten = X_test.reshape(X_test.shape[0], -1)\n",
    "\n",
    "# Print shapes to confirm\n",
    "print(f\"X_train shape: {X_train.shape}, Y_train shape: {Y_train.shape}\")\n",
    "print(f\"X_test shape: {X_test.shape}, Y_test shape: {Y_test.shape}\")\n",
    "\n",
    "for count in range(len(values)):\n",
    "    plt.figure(figsize=(10,2))\n",
    "    for i in range(5):\n",
    "        plt.subplot(1, 5, i + 1)\n",
    "        plt.imshow(X[i+count*max_samples], cmap='gray')\n",
    "        plt.axis('off')\n",
    "    plt.suptitle(values[count],fontsize=20)\n",
    "    plt.show()"
   ]
  },
  {
   "cell_type": "markdown",
   "id": "baf5c5c0",
   "metadata": {},
   "source": [
    "# Original Dataset"
   ]
  },
  {
   "cell_type": "markdown",
   "id": "49b9f2b0",
   "metadata": {},
   "source": [
    "## KNN"
   ]
  },
  {
   "cell_type": "markdown",
   "id": "d31c2173",
   "metadata": {},
   "source": [
    "### Accuracy = 82.9, k=3\n",
    "### Accuracy = 82.3125, k=5, *\n",
    "### Accuracy = 82.3125, k=7\n",
    "### Accuracy = 82.1, k=9"
   ]
  },
  {
   "cell_type": "code",
   "execution_count": null,
   "id": "65e7a3ed",
   "metadata": {},
   "outputs": [],
   "source": [
    "# KNN model and parameter grid\n",
    "knn = KNeighborsClassifier(n_neighbors=5)\n",
    "\n",
    "# Train and predict using KNN\n",
    "knn.fit(X_train_flatten, Y_train)\n",
    "Y_pred_knn = knn.predict(X_test_flatten)\n",
    "\n",
    "# Accuracy and Confusion Matrix for KNN\n",
    "accuracy_knn = accuracy_score(Y_test, Y_pred_knn)\n",
    "cm_knn = confusion_matrix(Y_test, Y_pred_knn)\n",
    "\n",
    "print(f\"KNN Accuracy: {accuracy_knn}\")\n",
    "\n",
    "# Plot confusion matrix\n",
    "plt.figure(figsize=(8, 6))\n",
    "sns.heatmap(cm_knn, annot=True, fmt='d', cmap='Blues')\n",
    "plt.title(\"KNN Confusion Matrix\")\n",
    "plt.xlabel(\"Predicted Label\")\n",
    "plt.ylabel(\"True Label\")\n",
    "plt.show()"
   ]
  },
  {
   "cell_type": "markdown",
   "id": "680e1abf",
   "metadata": {},
   "source": [
    "## Decision Trees"
   ]
  },
  {
   "cell_type": "markdown",
   "id": "fce6ce2a",
   "metadata": {},
   "source": [
    "### Accuracy = 58.8, depth=13\n",
    "### Accuracy = 59.8, depth=13, min_impurity_decrease=0.00014 *"
   ]
  },
  {
   "cell_type": "code",
   "execution_count": null,
   "id": "a681984c",
   "metadata": {},
   "outputs": [],
   "source": [
    "decision_tree = DecisionTreeClassifier(max_depth=13, min_impurity_decrease=0.00014)\n",
    "\n",
    "# Train and predict using Decision Tree\n",
    "decision_tree.fit(X_train_flatten, Y_train)\n",
    "Y_pred_dt = decision_tree.predict(X_test_flatten)\n",
    "\n",
    "# Accuracy and Confusion Matrix for Decision Tree\n",
    "accuracy_dt = accuracy_score(Y_test, Y_pred_dt)\n",
    "cm_dt = confusion_matrix(Y_test, Y_pred_dt)\n",
    "\n",
    "print(f\"Decision Tree Accuracy: {accuracy_dt}\")\n",
    "\n",
    "# Plot confusion matrix\n",
    "plt.figure(figsize=(8, 6))\n",
    "sns.heatmap(cm_dt, annot=True, fmt='d', cmap='Blues')\n",
    "plt.title(\"Decision Tree Confusion Matrix\")\n",
    "plt.xlabel(\"Predicted Label\")\n",
    "plt.ylabel(\"True Label\")\n",
    "plt.show()"
   ]
  },
  {
   "cell_type": "markdown",
   "id": "399e3ae8",
   "metadata": {},
   "source": [
    "## Random Forests"
   ]
  },
  {
   "cell_type": "markdown",
   "id": "5f3c1538",
   "metadata": {},
   "source": [
    "### Accuracy = 82, depth=21"
   ]
  },
  {
   "cell_type": "code",
   "execution_count": null,
   "id": "bb9a68d6",
   "metadata": {},
   "outputs": [],
   "source": [
    "# Random Forest model and parameter grid\n",
    "random_forest = RandomForestClassifier()\n",
    "\n",
    "param_grid_rf = {\n",
    "    'n_estimators': [100],\n",
    "    'max_depth': [21],\n",
    "    'min_samples_leaf':[1],\n",
    "    'random_state':[0]\n",
    "}\n",
    "\n",
    "# Grid Search for Random Forest\n",
    "grid_search_rf = GridSearchCV(random_forest, param_grid_rf, cv=5, n_jobs=-1)\n",
    "grid_search_rf.fit(X_train_flatten, Y_train)\n",
    "\n",
    "# Best Random Forest model\n",
    "best_rf = grid_search_rf.best_estimator_\n",
    "Y_pred_rf = best_rf.predict(X_test_flatten)\n",
    "\n",
    "# Best parameters\n",
    "best_params_rf = grid_search_rf.best_params_\n",
    "print(f\"Best parameters found: {best_params_rf}\")\n",
    "\n",
    "# Accuracy and Confusion Matrix for Random Forest\n",
    "accuracy_rf = accuracy_score(Y_test, Y_pred_rf)\n",
    "cm_rf = confusion_matrix(Y_test, Y_pred_rf)\n",
    "\n",
    "print(f\"Random Forest Accuracy: {accuracy_rf}\")\n",
    "\n",
    "# Plot confusion matrix\n",
    "plt.figure(figsize=(8, 6))\n",
    "sns.heatmap(cm_rf, annot=True, fmt='d', cmap='Blues')\n",
    "plt.title(\"Random Forest Confusion Matrix\")\n",
    "plt.xlabel(\"Predicted Label\")\n",
    "plt.ylabel(\"True Label\")\n",
    "plt.show()"
   ]
  },
  {
   "cell_type": "markdown",
   "id": "2ce1ed58",
   "metadata": {},
   "source": [
    "## Softmax/Logistic Regression"
   ]
  },
  {
   "cell_type": "markdown",
   "id": "1e547ccd",
   "metadata": {},
   "source": [
    "### Accuracy = 69.3"
   ]
  },
  {
   "cell_type": "code",
   "execution_count": null,
   "id": "143261ad",
   "metadata": {},
   "outputs": [],
   "source": [
    "from sklearn.linear_model import LogisticRegression\n",
    "from sklearn.metrics import accuracy_score, confusion_matrix\n",
    "import seaborn as sns\n",
    "import matplotlib.pyplot as plt\n",
    "\n",
    "# Softmax Regression model\n",
    "softmax_regression = LogisticRegression(multi_class='multinomial')\n",
    "\n",
    "# Train and predict using Softmax Regression\n",
    "softmax_regression.fit(X_train_flatten, Y_train)\n",
    "Y_pred_sr = softmax_regression.predict(X_test_flatten)\n",
    "\n",
    "# Accuracy and Confusion Matrix for Softmax Regression\n",
    "accuracy_sr = accuracy_score(Y_test, Y_pred_sr)\n",
    "cm_sr = confusion_matrix(Y_test, Y_pred_sr)\n",
    "\n",
    "print(f\"Softmax Regression Accuracy: {accuracy_sr}\")\n",
    "\n",
    "# Plot confusion matrix\n",
    "plt.figure(figsize=(8, 6))\n",
    "sns.heatmap(cm_sr, annot=True, fmt='d', cmap='Blues')\n",
    "plt.title(\"Softmax Regression Confusion Matrix\")\n",
    "plt.xlabel(\"Predicted Label\")\n",
    "plt.ylabel(\"True Label\")\n",
    "plt.show()"
   ]
  },
  {
   "cell_type": "markdown",
   "id": "5c2afa92",
   "metadata": {},
   "source": [
    "## SVM Classifier"
   ]
  },
  {
   "cell_type": "markdown",
   "id": "b84e1286",
   "metadata": {},
   "source": [
    "### Accuracy = 69.5, Linear kernel\n",
    "### Accuracy = 84.625, Polynomial kernel, degree=2\n",
    "### Accuracy = "
   ]
  },
  {
   "cell_type": "code",
   "execution_count": null,
   "id": "cc0b76dd",
   "metadata": {},
   "outputs": [],
   "source": [
    "linear_svm = SVC(kernel='linear')\n",
    "linear_svm.fit(X_train_flatten, Y_train)\n",
    "Y_pred_linear = linear_svm.predict(X_test_flatten)\n",
    "\n",
    "# Accuracy and Confusion Matrix for Linear SVM\n",
    "accuracy_linear = accuracy_score(Y_test, Y_pred_linear)\n",
    "cm_linear = confusion_matrix(Y_test, Y_pred_linear)\n",
    "\n",
    "print(f\"Linear SVM Accuracy: {accuracy_linear}\")\n",
    "\n",
    "# Plot confusion matrix for Linear SVM\n",
    "plt.figure(figsize=(8, 6))\n",
    "sns.heatmap(cm_linear, annot=True, fmt='d', cmap='Blues')\n",
    "plt.title(\"Linear SVM Confusion Matrix\")\n",
    "plt.xlabel(\"Predicted Label\")\n",
    "plt.ylabel(\"True Label\")\n",
    "plt.show()"
   ]
  },
  {
   "cell_type": "code",
   "execution_count": null,
   "id": "c577fe90",
   "metadata": {},
   "outputs": [],
   "source": [
    "poly_svm = SVC(kernel='poly', degree=2)\n",
    "poly_svm.fit(X_train_flatten, Y_train)\n",
    "Y_pred_poly = poly_svm.predict(X_test_flatten)\n",
    "\n",
    "# Accuracy and Confusion Matrix for Polynomial SVM\n",
    "accuracy_poly = accuracy_score(Y_test, Y_pred_poly)\n",
    "cm_poly = confusion_matrix(Y_test, Y_pred_poly)\n",
    "\n",
    "print(f\"Polynomial SVM Accuracy: {accuracy_poly}\")\n",
    "\n",
    "# Plot confusion matrix for Polynomial SVM\n",
    "plt.figure(figsize=(8, 6))\n",
    "sns.heatmap(cm_poly, annot=True, fmt='d', cmap='Blues')\n",
    "plt.title(\"Polynomial SVM Confusion Matrix\")\n",
    "plt.xlabel(\"Predicted Label\")\n",
    "plt.ylabel(\"True Label\")\n",
    "plt.show()"
   ]
  },
  {
   "cell_type": "code",
   "execution_count": null,
   "id": "e697a958",
   "metadata": {},
   "outputs": [],
   "source": []
  }
 ],
 "metadata": {
  "kernelspec": {
   "display_name": "Python 3 (ipykernel)",
   "language": "python",
   "name": "python3"
  },
  "language_info": {
   "codemirror_mode": {
    "name": "ipython",
    "version": 3
   },
   "file_extension": ".py",
   "mimetype": "text/x-python",
   "name": "python",
   "nbconvert_exporter": "python",
   "pygments_lexer": "ipython3",
   "version": "3.9.12"
  }
 },
 "nbformat": 4,
 "nbformat_minor": 5
}
